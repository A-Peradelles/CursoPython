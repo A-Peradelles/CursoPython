{
 "cells": [
  {
   "cell_type": "markdown",
   "id": "c83cf8e0",
   "metadata": {},
   "source": [
    "### Faça um programa que imprima seu nome completo na tela"
   ]
  },
  {
   "cell_type": "code",
   "execution_count": 9,
   "id": "52543f7b",
   "metadata": {
    "scrolled": true
   },
   "outputs": [
    {
     "name": "stdout",
     "output_type": "stream",
     "text": [
      "Digite o seu nome: andre\n",
      "Digite o seu último nome: peradelles\n",
      "Digite o seu nome do meio: \n",
      "andre  peradelles\n"
     ]
    }
   ],
   "source": [
    "a=str(input(\"Digite o seu nome: \"))\n",
    "b=str(input(\"Digite o seu último nome: \"))\n",
    "c=str(input(\"Digite o seu nome do meio: \"))\n",
    "print(\"%s\" %a,\"%s\" %c,\"%s\" %b)"
   ]
  },
  {
   "cell_type": "code",
   "execution_count": 11,
   "id": "bbbbc1f5",
   "metadata": {
    "scrolled": true
   },
   "outputs": [
    {
     "name": "stdout",
     "output_type": "stream",
     "text": [
      "Digite o seu nome: André\n",
      "Digite o seu sobrenome completo: dos Santos Peradelles\n",
      "André dos Santos Peradelles\n"
     ]
    }
   ],
   "source": [
    "a=str(input(\"Digite o seu nome: \"))\n",
    "b=str(input(\"Digite o seu sobrenome completo: \"))\n",
    "print(\"%s\" %a, \"%s\" %b)"
   ]
  },
  {
   "cell_type": "markdown",
   "id": "b8dcc561",
   "metadata": {},
   "source": [
    "### Escreva um programa que exiba o resultado de 5a x 3b onde a = 2 e b = 5"
   ]
  },
  {
   "cell_type": "code",
   "execution_count": 13,
   "id": "51f0db41",
   "metadata": {},
   "outputs": [
    {
     "name": "stdout",
     "output_type": "stream",
     "text": [
      "150\n"
     ]
    }
   ],
   "source": [
    "a=2\n",
    "b=5\n",
    "print(5*a*3*b)"
   ]
  },
  {
   "cell_type": "markdown",
   "id": "d79e85fa",
   "metadata": {},
   "source": [
    "### Modifique o primeiro programa, inserindo uma terceira variável c = 5 e imprime a soma das três variáveis"
   ]
  },
  {
   "cell_type": "code",
   "execution_count": 14,
   "id": "241dfb6e",
   "metadata": {},
   "outputs": [
    {
     "name": "stdout",
     "output_type": "stream",
     "text": [
      "12\n"
     ]
    }
   ],
   "source": [
    "a=2\n",
    "b=5\n",
    "c=5\n",
    "print(a+b+c)"
   ]
  },
  {
   "cell_type": "markdown",
   "id": "e7917925",
   "metadata": {},
   "source": [
    "### Escreva um programa que leia dois números e que pergunte qual operação você deseja realizar. Você deve poder calcular a soma (+), subtração(-), multiplicação(*) e divisão(/). Exiba o resultado da operação."
   ]
  },
  {
   "cell_type": "code",
   "execution_count": 37,
   "id": "7a1fa2f4",
   "metadata": {},
   "outputs": [
    {
     "name": "stdout",
     "output_type": "stream",
     "text": [
      "Para somar,digite 1\n",
      "Para subtrair o primeiro pelo segundo,digite 2\n",
      "Para multiplicar,digite 3\n",
      "Para dividir o primeiro pelo segundo,digite 4\n",
      "digite um número: 2\n",
      "digite o primeiro número: 5\n",
      "digite o segundo número: 10\n",
      "-5\n"
     ]
    }
   ],
   "source": [
    "print(\"Para somar,digite 1\")\n",
    "print(\"Para subtrair o primeiro pelo segundo,digite 2\")\n",
    "print(\"Para multiplicar,digite 3\")\n",
    "print(\"Para dividir o primeiro pelo segundo,digite 4\")\n",
    "c=int(input(\"digite um número: \"))\n",
    "a=int(input(\"digite o primeiro número: \"))\n",
    "b=int(input(\"digite o segundo número: \"))\n",
    "if c==1:\n",
    "    print(a+b)\n",
    "if c==2:\n",
    "    print(a-b)\n",
    "if c==3:\n",
    "    print(a*b)\n",
    "if c==4:\n",
    "    print(a/b)"
   ]
  },
  {
   "cell_type": "markdown",
   "id": "98b6b585",
   "metadata": {},
   "source": [
    "### Escreva um programa em Python para contar de 1 até 10.\n",
    "\n",
    "* usando a instrução while\n",
    "* usando a instrução for e a função range"
   ]
  },
  {
   "cell_type": "code",
   "execution_count": 38,
   "id": "ecca10a5",
   "metadata": {},
   "outputs": [
    {
     "name": "stdout",
     "output_type": "stream",
     "text": [
      "1\n",
      "2\n",
      "3\n",
      "4\n",
      "5\n",
      "6\n",
      "7\n",
      "8\n",
      "9\n",
      "10\n"
     ]
    }
   ],
   "source": [
    "contador=1\n",
    "while contador<=10:\n",
    "    print(contador)\n",
    "    contador +=1"
   ]
  },
  {
   "cell_type": "code",
   "execution_count": 41,
   "id": "87bc7add",
   "metadata": {},
   "outputs": [
    {
     "name": "stdout",
     "output_type": "stream",
     "text": [
      "1\n",
      "2\n",
      "3\n",
      "4\n",
      "5\n",
      "6\n",
      "7\n",
      "8\n",
      "9\n",
      "10\n"
     ]
    }
   ],
   "source": [
    "for x in range (1,11):\n",
    "    print(x)"
   ]
  },
  {
   "cell_type": "markdown",
   "id": "4e293c0a",
   "metadata": {},
   "source": [
    "###     6. Escreva um programa para contar quantos números pares e ímpares existentes entre 1 e 10 bem como a soma deles. \n",
    "\n",
    "* usando a instrução while \n",
    "* usando a instrução for e as funções range e sum "
   ]
  },
  {
   "cell_type": "code",
   "execution_count": 51,
   "id": "dc741309",
   "metadata": {},
   "outputs": [
    {
     "name": "stdout",
     "output_type": "stream",
     "text": [
      "a quantidade de números pares é 5 e a soma é 30\n",
      "a quantidade de números impares é 5 e a soma é 25\n"
     ]
    }
   ],
   "source": [
    "contador=1\n",
    "par=0\n",
    "impar=0\n",
    "simpar=0\n",
    "spar=0\n",
    "while contador<=10:\n",
    "    resto=contador%2\n",
    "    if resto==0:\n",
    "        par=par+1\n",
    "        spar=spar+contador\n",
    "    else:\n",
    "        impar=impar+1\n",
    "        simpar=simpar+contador\n",
    "    contador+=1\n",
    "print(\"a quantidade de números pares é %d\" %par, \"e a soma é %d\" %spar)\n",
    "print(\"a quantidade de números impares é %d\" %impar, \"e a soma é %d\" %simpar)"
   ]
  },
  {
   "cell_type": "code",
   "execution_count": 62,
   "id": "575913c4",
   "metadata": {},
   "outputs": [
    {
     "name": "stdout",
     "output_type": "stream",
     "text": [
      "a quantidade de números pares é 5 e a soma é 30\n",
      "a quantidade de números impares é 5 e a soma é 25\n"
     ]
    }
   ],
   "source": [
    "par=0\n",
    "impar=0\n",
    "npar=[]\n",
    "nimpar=[]\n",
    "for x in range (1,11):\n",
    "    resto=x%2\n",
    "    if resto==0:\n",
    "        par+=1\n",
    "        npar.append(x)\n",
    "    else:\n",
    "        impar+=1\n",
    "        nimpar.append(x)\n",
    "soma1=sum(npar)\n",
    "soma2=sum(nimpar)\n",
    "print(\"a quantidade de números pares é %d\" %par, \"e a soma é %d\" %soma1)\n",
    "print(\"a quantidade de números impares é %d\" %impar, \"e a soma é %d\" %soma2)\n",
    "#print(npar)\n",
    "#print(nimpar)"
   ]
  },
  {
   "cell_type": "markdown",
   "id": "deb754f5",
   "metadata": {},
   "source": [
    "###     7. Escreva um programa para resolver equações do segundo grau representadas por ax2+bx+c usando a Fórmula de Bhaskara. \n",
    "\n",
    "* sem usar o módulo math \n",
    "* usando o módulo math \n",
    "* Teste seu programa com os coeficientes: \n",
    "\n",
    "* a=1,b=-5,c=6 \n",
    "* a=1,b=0,c=-9 \n",
    "* a=5,b=-45,c=0 \n",
    "* a=1,b=-1,c=-12 \n",
    "* a=1,b=-6,c=10 "
   ]
  },
  {
   "cell_type": "code",
   "execution_count": 7,
   "id": "2d74baf7",
   "metadata": {},
   "outputs": [
    {
     "name": "stdout",
     "output_type": "stream",
     "text": [
      "Digite o valor de a: 1\n",
      "Digite o valor de b: -6\n",
      "Digite o valor de c: 10\n"
     ]
    },
    {
     "ename": "TypeError",
     "evalue": "can't convert complex to float",
     "output_type": "error",
     "traceback": [
      "\u001b[1;31m---------------------------------------------------------------------------\u001b[0m",
      "\u001b[1;31mTypeError\u001b[0m                                 Traceback (most recent call last)",
      "Input \u001b[1;32mIn [7]\u001b[0m, in \u001b[0;36m<cell line: 7>\u001b[1;34m()\u001b[0m\n\u001b[0;32m      5\u001b[0m x1\u001b[38;5;241m=\u001b[39m((\u001b[38;5;241m-\u001b[39mb)\u001b[38;5;241m+\u001b[39m(delta\u001b[38;5;241m*\u001b[39m\u001b[38;5;241m*\u001b[39m\u001b[38;5;241m0.5\u001b[39m))\u001b[38;5;241m/\u001b[39m(\u001b[38;5;241m2\u001b[39m\u001b[38;5;241m*\u001b[39ma)\n\u001b[0;32m      6\u001b[0m x2\u001b[38;5;241m=\u001b[39m((\u001b[38;5;241m-\u001b[39mb)\u001b[38;5;241m-\u001b[39m(delta\u001b[38;5;241m*\u001b[39m\u001b[38;5;241m*\u001b[39m\u001b[38;5;241m0.5\u001b[39m))\u001b[38;5;241m/\u001b[39m(\u001b[38;5;241m2\u001b[39m\u001b[38;5;241m*\u001b[39ma)\n\u001b[1;32m----> 7\u001b[0m \u001b[38;5;28mprint\u001b[39m(\u001b[38;5;124;43m\"\u001b[39;49m\u001b[38;5;124;43mAs raizes são \u001b[39;49m\u001b[38;5;132;43;01m%f\u001b[39;49;00m\u001b[38;5;124;43m\"\u001b[39;49m\u001b[43m \u001b[49m\u001b[38;5;241;43m%\u001b[39;49m\u001b[43mx1\u001b[49m, \u001b[38;5;124m\"\u001b[39m\u001b[38;5;124me \u001b[39m\u001b[38;5;132;01m%f\u001b[39;00m\u001b[38;5;124m\"\u001b[39m \u001b[38;5;241m%\u001b[39mx2)\n",
      "\u001b[1;31mTypeError\u001b[0m: can't convert complex to float"
     ]
    }
   ],
   "source": [
    "a=float(input(\"Digite o valor de a: \"))\n",
    "b=float(input(\"Digite o valor de b: \"))\n",
    "c=float(input(\"Digite o valor de c: \"))\n",
    "delta=((b**2)-(4*a*c))\n",
    "x1=((-b)+(delta**0.5))/(2*a)\n",
    "x2=((-b)-(delta**0.5))/(2*a)\n",
    "print(\"As raizes são %f\" %x1, \"e %f\" %x2)"
   ]
  },
  {
   "cell_type": "code",
   "execution_count": 9,
   "id": "ea999bff",
   "metadata": {},
   "outputs": [
    {
     "name": "stdout",
     "output_type": "stream",
     "text": [
      "Digite o valor de a: 1\n",
      "Digite o valor de b: -5\n",
      "Digite o valor de c: 6\n",
      "As raizes são 3.000000 e 2.000000\n"
     ]
    }
   ],
   "source": [
    "import math\n",
    "a=float(input(\"Digite o valor de a: \"))\n",
    "b=float(input(\"Digite o valor de b: \"))\n",
    "c=float(input(\"Digite o valor de c: \"))\n",
    "delta=((b**2)-(4*a*c))\n",
    "x=math.sqrt(delta)\n",
    "x1=(-b+x)/(2*a)\n",
    "x2=(-b-x)/(2*a)\n",
    "print(\"As raizes são %f\" %x1, \"e %f\" %x2)"
   ]
  },
  {
   "cell_type": "markdown",
   "id": "6ed04868",
   "metadata": {},
   "source": [
    "### Reescreva o programa acima criando uma função bhaskara que recebe como parâmetros os coeficientes a, b e c e retorna as raízes da equação."
   ]
  },
  {
   "cell_type": "code",
   "execution_count": 11,
   "id": "89e9ef60",
   "metadata": {},
   "outputs": [
    {
     "name": "stdout",
     "output_type": "stream",
     "text": [
      "Digite o valor de a: 1\n",
      "Digite o valor de b: -5\n",
      "Digite o valor de c: 6\n",
      "[3.0, 2.0]\n"
     ]
    }
   ],
   "source": [
    "def bask(a,b,c):\n",
    "    x=[]\n",
    "    delta=((b**2)-(4*a*c))\n",
    "    x1=((-b)+(delta**0.5))/(2*a)\n",
    "    x.append(x1)\n",
    "    x2=((-b)-(delta**0.5))/(2*a)\n",
    "    x.append(x2)\n",
    "    return x\n",
    "\n",
    "a=float(input(\"Digite o valor de a: \"))\n",
    "b=float(input(\"Digite o valor de b: \"))\n",
    "c=float(input(\"Digite o valor de c: \"))\n",
    "x=bask(a,b,c)\n",
    "print(x)"
   ]
  },
  {
   "cell_type": "markdown",
   "id": "73a6181a",
   "metadata": {},
   "source": [
    "###      Considerando a string s = 'Mentorama' escreva um programa que: \n",
    "* converta a string para maiúsculo, em seguida \n",
    "* imprima-a de trás para frente \n",
    "* imprima somente as vogais "
   ]
  },
  {
   "cell_type": "code",
   "execution_count": 17,
   "id": "1a3ce07a",
   "metadata": {},
   "outputs": [
    {
     "name": "stdout",
     "output_type": "stream",
     "text": [
      "MENTORAMA\n"
     ]
    }
   ],
   "source": [
    "s=\"Mentorama\"\n",
    "s=s.upper()\n",
    "print(s)"
   ]
  },
  {
   "cell_type": "code",
   "execution_count": 16,
   "id": "5f2f75c6",
   "metadata": {},
   "outputs": [
    {
     "name": "stdout",
     "output_type": "stream",
     "text": [
      "amarotneM\n"
     ]
    }
   ],
   "source": [
    "s=\"Mentorama\"\n",
    "r=str()\n",
    "t=len(s)\n",
    "\n",
    "while t!=0:\n",
    "    r=r+s[t-1]\n",
    "    t=t-1\n",
    "print(r)"
   ]
  },
  {
   "cell_type": "code",
   "execution_count": 19,
   "id": "7d1b678e",
   "metadata": {},
   "outputs": [
    {
     "name": "stdout",
     "output_type": "stream",
     "text": [
      "eoaa\n"
     ]
    }
   ],
   "source": [
    "s=\"Mentorama\"\n",
    "vogais=\"AEIOUaeiou\"\n",
    "t=len(s)\n",
    "d=str()\n",
    "\n",
    "for x in range (t):\n",
    "    if s[x] in vogais:\n",
    "        d=d+s[x]\n",
    "print(d)"
   ]
  },
  {
   "cell_type": "markdown",
   "id": "5c0a33cc",
   "metadata": {},
   "source": [
    "### Escreva um programa que pergunte o valor inicial de uma dívida e o juros mensal. Pergunte também o valor mensal que será pago. Imprima o número de meses para que a dívida seja paga, o total pago e o total de juros a pago."
   ]
  },
  {
   "cell_type": "code",
   "execution_count": 3,
   "id": "ad729938",
   "metadata": {},
   "outputs": [
    {
     "name": "stdout",
     "output_type": "stream",
     "text": [
      "Digite o valor inicial da dívida: 10000\n",
      "Digite a taxa de juros: 3\n",
      "Digite o valor das parcelas: 1845.98\n",
      "O número de periodos é 6\n",
      "O valor pago é 11075.880000\n",
      "O juros pago é 1075.880000\n"
     ]
    }
   ],
   "source": [
    "divida=float(input(\"Digite o valor inicial da dívida: \"))\n",
    "juro_p=float(input(\"Digite a taxa de juros: \"))\n",
    "parcela=float(input(\"Digite o valor das parcelas: \"))\n",
    "pago=float(0)\n",
    "divjur=divida\n",
    "periodo=int(0)\n",
    "while divjur>0:\n",
    "    divjur=divjur+(divjur*(juro_p/100))\n",
    "    pago=pago+parcela\n",
    "    divjur=divjur-parcela\n",
    "    periodo +=1\n",
    "print(\"O número de periodos é %d\" %periodo)\n",
    "print(\"O valor pago é %f\" %pago)\n",
    "print(\"O juros pago é %f\" %(pago-divida))"
   ]
  },
  {
   "cell_type": "code",
   "execution_count": null,
   "id": "8ba484a3",
   "metadata": {},
   "outputs": [],
   "source": []
  }
 ],
 "metadata": {
  "kernelspec": {
   "display_name": "Python 3 (ipykernel)",
   "language": "python",
   "name": "python3"
  },
  "language_info": {
   "codemirror_mode": {
    "name": "ipython",
    "version": 3
   },
   "file_extension": ".py",
   "mimetype": "text/x-python",
   "name": "python",
   "nbconvert_exporter": "python",
   "pygments_lexer": "ipython3",
   "version": "3.9.12"
  }
 },
 "nbformat": 4,
 "nbformat_minor": 5
}
