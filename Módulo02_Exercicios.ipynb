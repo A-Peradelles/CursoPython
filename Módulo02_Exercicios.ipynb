{
 "cells": [
  {
   "cell_type": "markdown",
   "id": "5c5cd663",
   "metadata": {},
   "source": [
    "### Crie um programa que leia nome, sexo e idade de várias pessoas, guardando os dados de cada pessoa em um dicionário e todos os dicionários em uma lista. No final, mostre:\n",
    "\n",
    "* Quantas pessoas foram cadastradas\n",
    "* A média de idade\n",
    "* Uma lista com as mulheres\n",
    "* Uma lista de pessoas com idade acima da média"
   ]
  },
  {
   "cell_type": "code",
   "execution_count": 26,
   "id": "4567165c",
   "metadata": {},
   "outputs": [
    {
     "name": "stdout",
     "output_type": "stream",
     "text": [
      "Quantas pessoas você deseja adicionar: 2\n",
      "digite o nome: a\n",
      "digite o sexo: a\n",
      "digite a idade: 3\n",
      "digite o nome: z\n",
      "digite o sexo: z\n",
      "digite a idade: 6\n",
      "o numero de pessas cadastradas foi 2\n"
     ]
    }
   ],
   "source": [
    "lista=list()\n",
    "n=int(input(\"Quantas pessoas você deseja adicionar: \"))\n",
    "\n",
    "for x in range (n):\n",
    "    nome=str(input(\"digite o nome: \"))\n",
    "    sexo=str(input(\"digite 'M' para masculino ou 'F' para feminino: \"))\n",
    "    idade=int(input(\"digite a idade: \"))\n",
    "    lista.append({\"nome\": nome,\"sexo\": sexo, \"idade\": idade})\n",
    "\n",
    "print(\"o numero de pessoas cadastradas foi\", len(lista))  \n",
    "    "
   ]
  },
  {
   "cell_type": "code",
   "execution_count": 28,
   "id": "3ec03e33",
   "metadata": {},
   "outputs": [
    {
     "name": "stdout",
     "output_type": "stream",
     "text": [
      "digite o nome: a\n",
      "digite 'M' para masculino ou 'F' para feminino: m\n",
      "digite a idade: 3\n",
      "digite o nome: z\n",
      "digite 'M' para masculino ou 'F' para feminino: f\n",
      "digite a idade: 6\n",
      "digite o nome: \n",
      "o numero de pessas cadastradas foi 2\n"
     ]
    }
   ],
   "source": [
    "#método 02 de construção \n",
    "lista=list()\n",
    "\n",
    "while True:\n",
    "    nome=str(input(\"digite o nome: \"))\n",
    "    if (nome==\"\"):\n",
    "        break\n",
    "    sexo=str(input(\"digite 'M' para masculino ou 'F' para feminino: \"))\n",
    "    idade=int(input(\"digite a idade: \"))\n",
    "    lista.append({\"nome\": nome,\"sexo\": sexo, \"idade\": idade})\n",
    "\n",
    "print(\"o numero de pessoas cadastradas foi\", len(lista))  "
   ]
  },
  {
   "cell_type": "code",
   "execution_count": 32,
   "id": "d101bb87",
   "metadata": {
    "scrolled": true
   },
   "outputs": [
    {
     "name": "stdout",
     "output_type": "stream",
     "text": [
      "4.5\n"
     ]
    }
   ],
   "source": [
    "l1=[]\n",
    "for i in lista:\n",
    "    l1.append(i[\"idade\"])\n",
    "\n",
    "print(sum(l1)/len(l1))\n",
    "media=sum(l1)/len(l1)"
   ]
  },
  {
   "cell_type": "code",
   "execution_count": 29,
   "id": "778a8396",
   "metadata": {},
   "outputs": [
    {
     "data": {
      "text/plain": [
       "['z']"
      ]
     },
     "execution_count": 29,
     "metadata": {},
     "output_type": "execute_result"
    }
   ],
   "source": [
    "l2=list()\n",
    "for i in lista:\n",
    "    if (i[\"sexo\"]==\"F\" or i[\"sexo\"]==\"f\"):\n",
    "        l2.append(i[\"nome\"])\n",
    "l2\n",
    "        "
   ]
  },
  {
   "cell_type": "code",
   "execution_count": 33,
   "id": "4b527801",
   "metadata": {},
   "outputs": [
    {
     "data": {
      "text/plain": [
       "['z']"
      ]
     },
     "execution_count": 33,
     "metadata": {},
     "output_type": "execute_result"
    }
   ],
   "source": [
    "l3=list()\n",
    "for i in lista:\n",
    "    if(i[\"idade\"]>media):\n",
    "        l3.append(i[\"nome\"])\n",
    "l3"
   ]
  },
  {
   "cell_type": "markdown",
   "id": "a122a161",
   "metadata": {},
   "source": [
    "### Escreva um programa Python para criar uma tupla com números de 1 a 4 e imprima um item"
   ]
  },
  {
   "cell_type": "code",
   "execution_count": 4,
   "id": "b780af7c",
   "metadata": {},
   "outputs": [
    {
     "name": "stdout",
     "output_type": "stream",
     "text": [
      "qual posição deseja imprimir da tupla: 2\n",
      "o item na posição 2 é: 3\n"
     ]
    }
   ],
   "source": [
    "tupla= 1, 2, 3, 4\n",
    "m=int(input(\"qual posição deseja imprimir da tupla: \"))\n",
    "print(\"o item na posição %d é:\" %m, tupla[m])"
   ]
  },
  {
   "cell_type": "markdown",
   "id": "dbfff673",
   "metadata": {},
   "source": [
    "### Escreva um programa Python para desempacotar uma tupla em várias variáveis: considere uma tupla=('aluno','universidade','nota','resultado') e as variáveis w, x, y, z\n",
    "\n",
    "* consulte o tipo de dados de cada uma das variáveis e imprima os valores de cada uma delas"
   ]
  },
  {
   "cell_type": "code",
   "execution_count": 6,
   "id": "f70a810f",
   "metadata": {},
   "outputs": [
    {
     "name": "stdout",
     "output_type": "stream",
     "text": [
      "aluno <class 'str'>\n",
      "universidade <class 'str'>\n",
      "8 <class 'int'>\n",
      "aprovado <class 'str'>\n"
     ]
    }
   ],
   "source": [
    "tupla=\"aluno\", \"universidade\", 8, \"aprovado\"\n",
    "w, x, y, z=tupla\n",
    "\n",
    "print(w, type(w))\n",
    "print(x, type(x))\n",
    "print(y, type(y))\n",
    "print(z, type(z))"
   ]
  },
  {
   "cell_type": "markdown",
   "id": "ea7d7571",
   "metadata": {},
   "source": [
    "### Crie 3 conjuntos conforme estrutura a seguir:\n",
    "\n",
    "* setx=set([\"apple\", \"mango\"])\n",
    "* sety=set([\"mango\", \"orange\"])\n",
    "* setz=set([\"mango\"])\n",
    "\n",
    "#### Faça as seguintes operações sobre conjuntos:\n",
    "\n",
    "* Faça a união dos três conjuntos e imprima o resultado\n",
    "* Verifique quais os elementos comuns do conjunto setx e sety e imprima o resultado\n",
    "* Verifique se o conjunto setx é subconjunto do conjunto sety e setz utilizando issubset()\n",
    "* Verifique quais elementos do conjunto setx não existem em sety"
   ]
  },
  {
   "cell_type": "code",
   "execution_count": 14,
   "id": "b3438cbd",
   "metadata": {},
   "outputs": [
    {
     "name": "stdout",
     "output_type": "stream",
     "text": [
      "a união dos conjuntos é {'mango', 'apple', 'orange'}\n",
      "os elementos comuns ao setx e sety são {'mango'}\n",
      "setx é subconjunto de sety: False\n",
      "setx é subconjunto de setz: False\n",
      "os elementos que pertencem a setx mas não a sety são {'apple'}\n"
     ]
    }
   ],
   "source": [
    "setx=set([\"apple\", \"mango\"])\n",
    "sety=set([\"mango\", \"orange\"])\n",
    "setz=set([\"mango\"])\n",
    "\n",
    "print(\"a união dos conjuntos é\", setx|sety|setz)\n",
    "print(\"os elementos comuns ao setx e sety são\", setx&sety)\n",
    "print(\"setx é subconjunto de sety:\", setx.issubset(sety))\n",
    "print(\"setx é subconjunto de setz:\", setx.issubset(setz))\n",
    "print(\"os elementos que pertencem a setx mas não a sety são\", setx-sety)"
   ]
  },
  {
   "cell_type": "markdown",
   "id": "60355d62",
   "metadata": {},
   "source": [
    "### Escreva um programa para inserir um elemento no início de um determinado DicionárioOrdenado\n",
    "\n",
    "* Insira um elemento no início do DicionárioOrdenado"
   ]
  },
  {
   "cell_type": "code",
   "execution_count": 38,
   "id": "c9cf5b52",
   "metadata": {},
   "outputs": [
    {
     "data": {
      "text/plain": [
       "{'color4': 'orange', 'color1': 'Red', 'color2': 'Green', 'color3': 'Blue'}"
      ]
     },
     "execution_count": 38,
     "metadata": {},
     "output_type": "execute_result"
    }
   ],
   "source": [
    "DicionárioOrdenado={\"color1\": \"Red\", \"color2\": \"Green\", \"color3\": \"Blue\"}\n",
    "\n",
    "y=list(DicionárioOrdenado.items())\n",
    "y.insert(0,(\"color4\",\"orange\"))\n",
    "\n",
    "DicionárioOrdenado=dict(y)\n",
    "DicionárioOrdenado\n"
   ]
  },
  {
   "cell_type": "markdown",
   "id": "9bc9ca30",
   "metadata": {},
   "source": [
    "### Escreva uma função chamada right_justify, que receba uma string chamada s como parâmetro e exiba a string com espaços suficientes à frente para que a última letra da string esteja na coluna 70 da tela\n",
    "* right_justify('monty')"
   ]
  },
  {
   "cell_type": "code",
   "execution_count": 24,
   "id": "0410a5ff",
   "metadata": {},
   "outputs": [
    {
     "name": "stdout",
     "output_type": "stream",
     "text": [
      "                                                                 monty\n"
     ]
    }
   ],
   "source": [
    "def right_justify(s):\n",
    "    tam=int(len(s))\n",
    "    x=str(\" \")\n",
    "    x=x*(70-tam)\n",
    "    print(x+s)\n",
    "\n",
    "right_justify(\"monty\")\n",
    "\n"
   ]
  },
  {
   "cell_type": "markdown",
   "id": "90ad7650",
   "metadata": {},
   "source": [
    "### do_twice\n",
    "\n",
    "* teste o exemplo\n",
    "* altere do_twice para que receba dois argumentos, um objeto de função e um valor passando o valor como argumento"
   ]
  },
  {
   "cell_type": "code",
   "execution_count": 26,
   "id": "18be27a4",
   "metadata": {},
   "outputs": [
    {
     "name": "stdout",
     "output_type": "stream",
     "text": [
      "spam\n",
      "spam\n"
     ]
    }
   ],
   "source": [
    "def do_twice(f):\n",
    "    f()\n",
    "    f()\n",
    "    \n",
    "def print_spam():\n",
    "    print('spam')\n",
    "do_twice(print_spam)"
   ]
  },
  {
   "cell_type": "code",
   "execution_count": 27,
   "id": "45677fa4",
   "metadata": {},
   "outputs": [
    {
     "name": "stdout",
     "output_type": "stream",
     "text": [
      "olá\n",
      "olá\n"
     ]
    }
   ],
   "source": [
    "def do_twice(f, s):\n",
    "    f(s)\n",
    "    f(s)\n",
    "\n",
    "do_twice(print, \"olá\")"
   ]
  },
  {
   "cell_type": "markdown",
   "id": "d7973228",
   "metadata": {},
   "source": [
    "### Crie um programa utilizando módulo e funções:\n",
    "\n",
    "* O usuário deve entrar com a mensagem e com o uso de módulos e funções, essa mensagem deve ser impressa na tela\n",
    "* o usuário deve entrar com os valores dos dois multiplicadores e o programa deve exibir o resultado na tela"
   ]
  },
  {
   "cell_type": "code",
   "execution_count": null,
   "id": "3e57a016",
   "metadata": {},
   "outputs": [],
   "source": [
    "#módulo: mod02_exe.py\n",
    "\n",
    "#def imprima(s):\n",
    "#    print(s)\n",
    "\n",
    "#def multiplique(r,s):\n",
    "#    print(r*s)"
   ]
  },
  {
   "cell_type": "code",
   "execution_count": 2,
   "id": "eedb58ec",
   "metadata": {},
   "outputs": [
    {
     "name": "stdout",
     "output_type": "stream",
     "text": [
      "Está certo\n",
      "45\n"
     ]
    }
   ],
   "source": [
    "import mod02_exe\n",
    "\n",
    "mod02_exe.imprima(\"Está certo\")\n",
    "\n",
    "mod02_exe.multiplique(3,15)"
   ]
  },
  {
   "cell_type": "markdown",
   "id": "67db3dfe",
   "metadata": {},
   "source": [
    "### Dada uma lista encadeada de caracteres formada por uma sequência alterada de letras e dígitos, construa um método que retorne uma lista na qual as letras são mantidas na sequência original e os dígitos são colocados na ordem inversa.\n",
    "\n",
    "* Exemplo: A1E5T7W8G --> AETWG8751"
   ]
  },
  {
   "cell_type": "code",
   "execution_count": 23,
   "id": "3dbab854",
   "metadata": {},
   "outputs": [
    {
     "name": "stdout",
     "output_type": "stream",
     "text": [
      "['A', 'E', 'T', 'W', 'G', 8, 7, 5, 1]\n"
     ]
    }
   ],
   "source": [
    "lista=[\"A\",1,\"E\",5,\"T\",7,\"W\",8,\"G\"]\n",
    "num=[0,1,2,3,4,5,6,7,8,9]\n",
    "x=list()\n",
    "\n",
    "for i in range (len(lista)):\n",
    "    if lista[i] in num:\n",
    "        x.append(lista[i])\n",
    "\n",
    "for i in range (len(x)):\n",
    "    lista.remove(x[i])\n",
    "    \n",
    "x.reverse()\n",
    "\n",
    "lista=lista+x\n",
    "print(lista)"
   ]
  },
  {
   "cell_type": "code",
   "execution_count": null,
   "id": "a02c62ba",
   "metadata": {},
   "outputs": [],
   "source": []
  }
 ],
 "metadata": {
  "kernelspec": {
   "display_name": "Python 3 (ipykernel)",
   "language": "python",
   "name": "python3"
  },
  "language_info": {
   "codemirror_mode": {
    "name": "ipython",
    "version": 3
   },
   "file_extension": ".py",
   "mimetype": "text/x-python",
   "name": "python",
   "nbconvert_exporter": "python",
   "pygments_lexer": "ipython3",
   "version": "3.9.12"
  }
 },
 "nbformat": 4,
 "nbformat_minor": 5
}
